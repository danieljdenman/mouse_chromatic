{
 "cells": [
  {
   "cell_type": "markdown",
   "metadata": {},
   "source": [
    "<div style=\"font-size:12pt;color:#999999\">plots for:</div>\n",
    "<div style=\"font-size:14pt;color:#000000\">Denman DJ, Siegle JS, Koch C, Reid CR, Blanche TJ</div>\n",
    "<div style=\"font-size:14pt;color:#000000\"><strong>Spatial organization of chromatic pathways in the mouse dorsal lateral geniculate nucleus</strong></div>\n",
    "<div style=\"font-size:14pt;color:#000000\">Journal of Neuroscience, 2016</div>\n",
    "<br></br>\n",
    "<div style=\"font-size:12pt;color:#000000\">all neural data is available in <a href=\"http://nwb.org/resources/#Format\">Neurodata Without Borders format</a> from <a href=\"http://www.brain-map.org\">brain-map.org</a></div>\n",
    "<div style=\"font-size:12pt;color:#000000\">custom functions available on <a href=\"https://github.com/\">GitHub</a></div>"
   ]
  },
  {
   "cell_type": "markdown",
   "metadata": {},
   "source": [
    "\n",
    "<div style=\"font-size:14pt;color:#000000\">imports and magics for plotting in this Jupyter notebook:</div>"
   ]
  },
  {
   "cell_type": "code",
   "execution_count": 1,
   "metadata": {
    "collapsed": false
   },
   "outputs": [],
   "source": [
    "from djd.color_functions import * # functions writted by Daniel J. Denman for analysis and plotting of the data collected for this manuscript\n",
    "                                  # this import includes associated packages like numpy, csv, h5py, etc... for a full list, \n",
    "                                  # see color_functions.py from the above GitHub page\n",
    "%matplotlib inline"
   ]
  },
  {
   "cell_type": "markdown",
   "metadata": {
    "hidePrompt": false
   },
   "source": [
    "<div style=\"font-size:14pt;color:#000000\">run this cell to hide the inputs and just see the plots. </div>\n",
    "<div style=\"font-size:10pt;color:#000000\">if you want to see the code, use Cell>All Output>Clear</div>"
   ]
  },
  {
   "cell_type": "markdown",
   "metadata": {},
   "source": [
    "<br></br>\n",
    "<br></br>\n",
    "<div style=\"font-size:14pt;color:#000000\">first, load the neural data from NWB files</div>"
   ]
  },
  {
   "cell_type": "code",
   "execution_count": 2,
   "metadata": {
    "collapsed": false,
    "hideCode": false,
    "hidePrompt": false
   },
   "outputs": [],
   "source": [
    "path_to_data = '/Users/administrator/Desktop/data/color_data/nwbs/' #<-- Replace this with a local path to the downloaded data. \n",
    "                                                 # '/Users/administrator/Desktop/data/color_data/nwbs/' \n",
    "                                                 # '/Users/danieljdenman/Desktop/data/color_data/nwbs/' \n",
    "        \n",
    "data={}\n",
    "for nwb_path in glob.glob(path_to_data+'*.nwb'):#get all NWB files in the folder\n",
    "    data[os.path.basename(nwb_path).split('_')[0]]=h5py.File(nwb_path)\n",
    "    \n",
    "    #do some light conditioning because of mismatches in naming conventions between experiments...\n",
    "    nwbdata=data[os.path.basename(nwb_path).split('_')[0]]\n",
    "    if 'flash_green' not in nwbdata['stimulus']['presentation'].keys():\n",
    "        if 'vis_flash' in nwbdata['stimulus']['presentation'].keys():\n",
    "            #nwb_file = nwbtools.ExtracellularEphysFile(modify=True)\n",
    "            nwbdata['stimulus']['presentation']['flash_green']=nwbdata['stimulus']['presentation']['vis_flash']\n",
    "        if 'flashes_vis' in nwbdata['stimulus']['presentation'].keys():\n",
    "            nwbdata['stimulus']['presentation']['flash_green']=nwbdata['stimulus']['presentation']['flashes_vis']\n",
    "    \n",
    "    if 'flash_uv' not in nwbdata['stimulus']['presentation'].keys():\n",
    "        if 'uv_flash' in nwbdata['stimulus']['presentation'].keys():\n",
    "            nwbdata['stimulus']['presentation']['flash_uv']=nwbdata['stimulus']['presentation']['uv_flash']\n",
    "        if 'flashes_uv' in nwbdata['stimulus']['presentation'].keys():\n",
    "            nwbdata['stimulus']['presentation']['flash_uv']=nwbdata['stimulus']['presentation']['flashes_uv']\n",
    "            \n",
    "    if 'binary_green' not in nwbdata['stimulus']['presentation'].keys():\n",
    "        if 'green_binary' in nwbdata['stimulus']['presentation'].keys():\n",
    "            nwbdata['stimulus']['presentation']['binary_green']=nwbdata['stimulus']['presentation']['green_binary']\n",
    "            nwbdata['stimulus']['presentation']['binary_uv']=nwbdata['stimulus']['presentation']['uv_binary']"
   ]
  },
  {
   "cell_type": "markdown",
   "metadata": {
    "hidePrompt": false
   },
   "source": [
    "<div style=\"font-size:12pt;color:#000000\">create a pandas dataframe, with a row for each cell</div>\n",
    "<div style=\"font-size:12pt;color:#000000\">this dataframe will be populated at each figure with metrics calculated for each cell.</div>"
   ]
  },
  {
   "cell_type": "code",
   "execution_count": null,
   "metadata": {
    "collapsed": false
   },
   "outputs": [],
   "source": [
    "#create a pandas dataframe, with a row for each cell\n",
    "#this dataframe will be populated at each figure with metrics calculated for each cell.\n",
    "dataframedict_expt = []\n",
    "dataframedict_cell = []\n",
    "for expt in data.keys():\n",
    "    expt_expt=[];expt_cell=[]\n",
    "    for cell in cell_numbers[expt]['lgn_list_ex']:\n",
    "        expt_expt.extend([expt])\n",
    "        expt_cell.extend([cell])\n",
    "    dataframedict_expt.extend(expt_expt)\n",
    "    dataframedict_cell.extend(expt_cell)\n",
    "    \n",
    "dataframedict={'Experiment':dataframedict_expt,'Cell':dataframedict_cell}\n",
    "df = pd.DataFrame(dataframedict)"
   ]
  },
  {
   "cell_type": "markdown",
   "metadata": {
    "collapsed": false
   },
   "source": [
    "<br></br>\n",
    "<br></br>\n",
    "<br></br>\n",
    "<br></br>\n",
    "<br></br>\n",
    "<br></br>\n",
    "<br></br>\n",
    "<br></br>\n",
    "<br></br>\n",
    "   <div style=\"font-size:16pt;color:#000000\"><strong><font size='20' color='red'>Figure 1</font></strong></div>\n",
    "   <br></br>\n",
    "   <div style=\"font-size:12pt;color:#000000\"> load the dome stimulation system measurements</div>"
   ]
  },
  {
   "cell_type": "code",
   "execution_count": null,
   "metadata": {
    "collapsed": false
   },
   "outputs": [],
   "source": [
    "import djd.jeti as jeti\n",
    "warp_data = pkl.load(open('/Users/danieljdenman/Academics/allen/BlancheLab/dome/lightMeasure/uniformity/uniformityData.pkl')) #from measurements of projected squares on spherical surface, made manually with a custom protractor.\n",
    "projector1_data = jeti.jetitodict('/Users/danieljdenman/Desktop/data/color_data/dome/uvdome_withluminanceadjustements.csv') #measured with SpectroCal\n",
    "projector2_data_g = jeti.jetitodict('/Users/danieljdenman/Desktop/data/color_data/dome/luminance_uvProjector2/green_set2.csv')\n",
    "projector2_data_u = jeti.jetitodict('/Users/danieljdenman/Desktop/data/color_data/dome/luminance_uvProjector2/uv_set1.csv')"
   ]
  },
  {
   "cell_type": "markdown",
   "metadata": {},
   "source": [
    "<div style=\"font-size:12pt;color:#000000\"> generate plot of warp accuracy, Figure 1B</div>"
   ]
  },
  {
   "cell_type": "code",
   "execution_count": null,
   "metadata": {
    "collapsed": false
   },
   "outputs": [],
   "source": [
    "plt.imshow(warp_data['uniformity_post'],clim=(1200-0.2 * 1200,1200+0.2*1200),interpolation='gaussian')"
   ]
  },
  {
   "cell_type": "markdown",
   "metadata": {},
   "source": [
    "<div style=\"font-size:12pt;color:#000000\"> generate plot of contrast linearity, Figure 1C</div>"
   ]
  },
  {
   "cell_type": "code",
   "execution_count": null,
   "metadata": {
    "collapsed": false
   },
   "outputs": [],
   "source": [
    "wavelengths = projector2_data_u['wavelengths']\n",
    "contrasts = np.linspace(10,100,10)\n",
    "total_irradiance_uv = []\n",
    "total_irradiance_green = []\n",
    "total_irradiance = []\n",
    "for contrast in contrasts:\n",
    "    both = projector2_data_u['uv_'+str(int(contrast))]+projector2_data_g['green_'+str(int(contrast))]\n",
    "    total_irradiance.append(np.trapz(both[:300]))\n",
    "    total_irradiance_uv.append(np.trapz(projector2_data_u['uv_'+str(int(contrast))][:300]))\n",
    "    total_irradiance_green.append(np.trapz(projector2_data_g['green_'+str(int(contrast))][:300]))\n",
    "plt.plot(contrasts,total_irradiance,'--o',color='k')\n",
    "plt.plot(contrasts,total_irradiance_uv,'--o',color='#4B0082')\n",
    "plt.plot(contrasts,total_irradiance_green,'--o',color='#6B8E23')\n",
    "plt.xlabel('contrast')\n",
    "plt.ylabel('radiance ^ 2')"
   ]
  },
  {
   "cell_type": "markdown",
   "metadata": {},
   "source": [
    "<div style=\"font-size:12pt;color:#000000\"> generate plots of LED irradiance and mouse, Figure 1D</div>"
   ]
  },
  {
   "cell_type": "code",
   "execution_count": null,
   "metadata": {
    "collapsed": false
   },
   "outputs": [],
   "source": [
    "wv = np.linspace(350,700,350)\n",
    "mso = np.zeros(350);mso[:249]=jeti.mso\n",
    "green1_max = np.zeros(350);green1_max=projector1_data['structuredlight_G_100'][:350]\n",
    "green2_max = np.zeros(350);green2_max[30:]=projector2_data_g['green_100'][:320]\n",
    "uv1_max = np.zeros(350);uv1_max=projector1_data['structuredlight_UV_100'][:350]\n",
    "uv2_max = np.zeros(350);uv2_max[30:]=projector2_data_u['uv_100'][:320]\n",
    "f,ax = plt.subplots(1)\n",
    "ax.plot(np.linspace(350,700,350),mso/2500,color='r')\n",
    "axR=ax.twinx()\n",
    "axR.plot(np.linspace(350,700,350),green1_max,color='#6B8E23',ls='--')\n",
    "ax.plot(np.linspace(350,700,350),green2_max,color='#6B8E23')\n",
    "axR.plot(np.linspace(350,700,350),uv1_max,color='#4B0082',ls='--')\n",
    "ax.plot(np.linspace(350,700,350),uv2_max,color='#4B0082')\n",
    "plt.xlabel('wavelength (nm)')\n",
    "plt.ylabel('radiance W/(sr*m2) or normalized sensitivity')\n",
    "plt.title('LEDs and Mouse Standard Observer')"
   ]
  },
  {
   "cell_type": "markdown",
   "metadata": {},
   "source": [
    "<br></br>\n",
    "<br></br>\n",
    "<br></br>\n",
    "<br></br>\n",
    "<br></br>\n",
    "<br></br>\n",
    "<br></br>\n",
    "<br></br>\n",
    "<br></br>\n",
    "<div style=\"font-size:16pt;color:#000000\"><strong><font size='20' color='red'>Figure 2</font></strong></div>"
   ]
  },
  {
   "cell_type": "markdown",
   "metadata": {},
   "source": [
    "#### starting from the spike times, generate PSTHs from flashed stimuli and make some measurements on them "
   ]
  },
  {
   "cell_type": "code",
   "execution_count": null,
   "metadata": {
    "collapsed": false,
    "hideCode": true,
    "hidePrompt": false,
    "scrolled": true
   },
   "outputs": [],
   "source": [
    "\n",
    "\n",
    "flash_green_ON_peak=[]; flash_green_ON_area=[];flash_green_ON_latency=[];flash_green_OFF_peak=[];flash_green_OFF_area=[];flash_green_OFF_latency=[]\n",
    "flash_UV_ON_peak=[];flash_UV_ON_area=[];flash_UV_ON_latency=[];flash_UV_OFF_peak=[];flash_UV_OFF_area=[];flash_UV_OFF_latency=[];flash_luminance_class=[];\n",
    "flash_bgi_dark=[];flash_bgi_bright=[];flash_bgi_best=[];flash_bgi2_dark=[];flash_bgi2_bright=[];flash_bgi2_best=[]\n",
    "latency_label = np.ones(np.shape(df)[0])-2\n",
    "on_latency = [];off_latency = []\n",
    "flash_green_ON = [];flash_green_OFF = [];flash_UV_ON = [];flash_UV_OFF = [];\n",
    "\n",
    "pre=0.25\n",
    "post=1.5\n",
    "binsize=0.01\n",
    "\n",
    "for i in range(np.shape(df)[0]):\n",
    "    try:\n",
    "        nwb_data = data[df['Experiment'][i]]\n",
    "        cell = str(str(df['Cell'][i]))\n",
    "        \n",
    "        #---------------------------------------------------------------------------------------------------------------------------------------\n",
    "        #calculate the PSTH for each cell, for each color, for increments and decrements \n",
    "        psth = psth_line(np.array(nwb_data['processing']['LGN']['UnitTimes'][cell]['times']),\n",
    "                         np.array(nwb_data['stimulus']['presentation']['flash_green']['timestamps'])[1::2],\n",
    "                         binsize=binsize,pre=pre,post=post,timeDomain=True,output='hist')\n",
    "        flash_green_ON_area.extend([psth_area(psth,pre=pre,binsize=binsize)])\n",
    "        flash_green_ON_peak.extend([np.max(psth[0])])\n",
    "        flash_green_ON_latency.extend([psth_latency(psth[0][5:60],psth[1][5:60],smooth=True,offset=8.33)])\n",
    "        flash_green_ON.extend([psth])\n",
    "\n",
    "        psth = psth_line(np.array(nwb_data['processing']['LGN']['UnitTimes'][cell]['times']),\n",
    "                         np.array(nwb_data['stimulus']['presentation']['flash_green']['timestamps'])[2::2],\n",
    "                         binsize=binsize,pre=pre,post=post,timeDomain=True,output='hist')\n",
    "        flash_green_OFF_area.extend([psth_area(psth,pre=pre,binsize=binsize)])\n",
    "        flash_green_OFF_peak.extend([np.max(psth[0])])\n",
    "        flash_green_OFF_latency.extend([psth_latency(psth[0][5:60],psth[1][5:60],smooth=True,offset=16.66)])\n",
    "        flash_green_OFF.extend([psth])\n",
    "\n",
    "        psth = psth_line(np.array(nwb_data['processing']['LGN']['UnitTimes'][cell]['times']),\n",
    "                         np.array(nwb_data['stimulus']['presentation']['flash_uv']['timestamps'])[1::2],\n",
    "                         binsize=binsize,pre=pre,post=post,timeDomain=True,output='hist')\n",
    "        flash_UV_ON_area.extend([psth_area(psth,pre=pre,binsize=binsize)])\n",
    "        flash_UV_ON_peak.extend([np.max(psth[0])])\n",
    "        flash_UV_ON_latency.extend([psth_latency(psth[0][5:60],psth[1][5:60],smooth=True,offset=8.33)])\n",
    "        flash_UV_ON.extend([psth])\n",
    "\n",
    "        psth = psth_line(np.array(nwb_data['processing']['LGN']['UnitTimes'][cell]['times']),\n",
    "                         np.array(nwb_data['stimulus']['presentation']['flash_uv']['timestamps'])[2::2],\n",
    "                         binsize=binsize,pre=pre,post=post,timeDomain=True,output='hist')\n",
    "        flash_UV_OFF_area.extend([psth_area(psth,pre=pre,binsize=binsize)])\n",
    "        flash_UV_OFF_peak.extend([np.max(psth[0])])\n",
    "        flash_UV_OFF_latency.extend([psth_latency(psth[0][5:60],psth[1][5:60],smooth=True,offset=16.66)])\n",
    "        flash_UV_OFF.extend([psth])\n",
    "        #---------------------------------------------------------------------------------------------------------------------------------------\n",
    "    except: #if there was some problem, populate with np.nan\n",
    "        print str('FAEL PSTH: ') + df['Experiment'][i] + ' '+str(str(df['Cell'][i]))\n",
    "        for d in [flash_green_ON_peak,flash_green_ON_area,flash_green_ON_latency,flash_green_OFF_peak,flash_green_OFF_area,flash_green_OFF_latency,flash_UV_ON_peak,\n",
    "                  flash_UV_ON_area,flash_UV_ON_latency,flash_UV_OFF_peak,flash_UV_OFF_area,flash_UV_OFF_latency,\n",
    "                 flash_green_ON,flash_green_OFF,flash_UV_ON,flash_UV_OFF]:\n",
    "            d.extend([np.nan])\n",
    "df['flash_green_ON_peak']=flash_green_ON_peak\n",
    "df['flash_green_ON_area']=flash_green_ON_area\n",
    "df['flash_green_ON_latency']=flash_green_ON_latency\n",
    "df['flash_green_OFF_peak']=flash_green_OFF_peak\n",
    "df['flash_green_OFF_area']=flash_green_OFF_area\n",
    "df['flash_green_OFF_latency']=flash_green_OFF_latency\n",
    "df['flash_UV_ON_peak']=flash_UV_ON_peak\n",
    "df['flash_UV_ON_area']=flash_UV_ON_area\n",
    "df['flash_UV_ON_latency']=flash_UV_ON_latency\n",
    "df['flash_UV_OFF_peak']=flash_UV_OFF_peak\n",
    "df['flash_UV_OFF_area']=flash_UV_OFF_area\n",
    "df['flash_UV_OFF_latency']=flash_UV_OFF_latency\n",
    "df['flash_green_OFF']=flash_green_OFF\n",
    "df['flash_green_ON']=flash_green_ON\n",
    "df['flash_UV_OFF']=flash_UV_OFF\n",
    "df['flash_UV_ON']=flash_UV_ON\n",
    "\n",
    "for i in range(np.shape(df)[0]):\n",
    "    try:\n",
    "        nwb_data = data[df['Experiment'][i]]\n",
    "        cell = str(str(df['Cell'][i]))        \n",
    "        #---------------------------------------------------------------------------------------------------------------------------------------\n",
    "        #find the best stimulus for this cell \n",
    "        maxi = 0\n",
    "        for stim in ['UV_OFF','UV_ON','green_OFF','green_ON']:\n",
    "            if df['flash_'+stim+'_peak'][i] > maxi:\n",
    "                maxi = df['flash_'+stim+'_peak'][i]\n",
    "                max_type = stim\n",
    "        \n",
    "        #using the color of the best stimulus, compare ON and OFF and put this cell in the appropriate class\n",
    "        #uses a difference of 25msec [half of the duration] in latency to do the classification.\n",
    "        if  df['flash_'+max_type.split('_')[0]+'_ON_latency'][i] - df['flash_'+max_type.split('_')[0]+'_OFF_latency'][i] > 25.:\n",
    "            latency_label[i]=2\n",
    "            flash_luminance_class.extend(['ON'])\n",
    "        else:\n",
    "            if  df['flash_'+max_type.split('_')[0]+'_ON_latency'][i] - df['flash_'+max_type.split('_')[0]+'_OFF_latency'][i] < -25.:\n",
    "                latency_label[i]=0\n",
    "                flash_luminance_class.extend(['OFF'])\n",
    "            else:\n",
    "                if np.abs( df['flash_'+max_type.split('_')[0]+'_ON_latency'][i] - df['flash_'+max_type.split('_')[0]+'_OFF_latency'][i]) < 25.:\n",
    "                    latency_label[i]=1\n",
    "                flash_luminance_class.extend(['ON/OFF'])\n",
    "        \n",
    "        #using the color of the best stimulus, find the ON and OFF latencies\n",
    "        on_latency.extend([df['flash_'+max_type.split('_')[0]+'_ON_latency'][i]])\n",
    "        off_latency.extend([df['flash_'+max_type.split('_')[0]+'_OFF_latency'][i]]) \n",
    "        #---------------------------------------------------------------------------------------------------------------------------------------\n",
    "        \n",
    "        #---------------------------------------------------------------------------------------------------------------------------------------\n",
    "        #calculate the UVGi for this cell\n",
    "        flash_bgi_dark.extend([(df['flash_green_OFF_peak'][i]-df['flash_UV_OFF_peak'][i])/float(df['flash_green_OFF_peak'][i]+df['flash_UV_OFF_peak'][i])])\n",
    "        flash_bgi_bright.extend([(df['flash_green_ON_peak'][i]-df['flash_UV_ON_peak'][i])/float(df['flash_green_ON_peak'][i]+df['flash_UV_ON_peak'][i])])\n",
    "        flash_bgi2_dark.extend([(df['flash_green_OFF_area'][i]-df['flash_UV_OFF_area'][i])/float(df['flash_green_OFF_area'][i]+df['flash_UV_OFF_area'][i])])\n",
    "        flash_bgi2_bright.extend([(df['flash_green_ON_area'][i]-df['flash_UV_ON_area'][i])/float(df['flash_green_ON_area'][i]+df['flash_UV_ON_area'][i])])    \n",
    "            \n",
    "        if latency_label[i] == 0:#OFF\n",
    "            if df['flash_green_OFF_peak'][i] > (np.mean(df['flash_green_OFF'][i][0][0:5])+np.std(df['flash_green_OFF'][i][0][0:5])*3) and df['flash_UV_OFF_peak'][i] > (np.mean(df['flash_UV_OFF'][i][0][0:5])+np.std(df['flash_UV_OFF'][i][0][0:5])*3):\n",
    "                flash_bgi2_best.extend([(df['flash_green_OFF_area'][i]-df['flash_UV_OFF_area'][i])/float(df['flash_green_OFF_area'][i]+df['flash_UV_OFF_area'][i])])\n",
    "                flash_bgi_best.extend([(df['flash_green_OFF_peak'][i]-df['flash_UV_OFF_peak'][i])/float(df['flash_green_OFF_peak'][i]+df['flash_UV_OFF_peak'][i])])\n",
    "            else:\n",
    "                if df['flash_green_OFF_peak'][i] > (np.mean(df['flash_green_OFF'][i][0][0:5])+np.std(df['flash_green_OFF'][i][0][0:5])*3):\n",
    "                    flash_bgi2_best.extend([1.])\n",
    "                    flash_bgi_best.extend([1.])\n",
    "                else :\n",
    "                    flash_bgi2_best.extend([-1.])\n",
    "                    flash_bgi_best.extend([-1.])\n",
    "        else:\n",
    "            if latency_label[i] == 2:#ON\n",
    "                if df['flash_green_ON_peak'][i] > (np.mean(df['flash_green_ON'][i][0][0:5])+np.std(df['flash_green_ON'][i][0][0:5])*3) and df['flash_UV_ON_peak'][i] > (np.mean(df['flash_UV_ON'][i][0][0:5])+np.std(df['flash_UV_ON'][i][0][0:5])*3):\n",
    "                    flash_bgi2_best.extend([(df['flash_green_ON_area'][i]-df['flash_UV_ON_area'][i])/float(df['flash_green_ON_area'][i]+df['flash_UV_ON_area'][i])])\n",
    "                    flash_bgi_best.extend([(df['flash_green_ON_peak'][i]-df['flash_UV_ON_peak'][i])/float(df['flash_green_ON_peak'][i]+df['flash_UV_ON_peak'][i])])\n",
    "                else:\n",
    "                    if df['flash_green_ON_peak'][i] > (np.mean(df['flash_green_ON'][i][0][0:5])+np.std(df['flash_green_ON'][i][0][0:5])*3):\n",
    "                        flash_bgi2_best.extend([1.])\n",
    "                        flash_bgi_best.extend([1.])\n",
    "                    else :\n",
    "                        flash_bgi2_best.extend([-1.])      \n",
    "                        flash_bgi_best.extend([-1.])   \n",
    "\n",
    "            else:# latency_label[i] == 1:#ON/OFF\n",
    "                flash_bgi2_best.extend([(df['flash_green_ON_area'][i]-df['flash_UV_ON_area'][i])/float(df['flash_green_ON_area'][i]+df['flash_UV_ON_area'][i])])\n",
    "                flash_bgi_best.extend([(df['flash_green_ON_peak'][i]-df['flash_UV_ON_peak'][i])/float(df['flash_green_ON_peak'][i]+df['flash_UV_ON_peak'][i])])\n",
    "\n",
    "                \n",
    "                #---------------------------------------------------------------------------------------------------------------------------------------\n",
    "        \n",
    "    except: #if there was some problem, populate with np.nan\n",
    "        print str('FAEL bgi: ') + df['Experiment'][i] + ' '+str(str(df['Cell'][i]))\n",
    "        for d in [on_latency,off_latency,flash_luminance_class,\n",
    "                  flash_bgi_dark,flash_bgi_bright,flash_bgi_best,flash_bgi2_dark,flash_bgi2_bright,flash_bgi2_best]:\n",
    "            d.extend([np.nan])\n",
    "\n",
    "\n",
    "df['ON_latency'] = on_latency#np.nan_to_num(np.array(on_latency))\n",
    "df['OFF_latency'] =off_latency#np.nan_to_num(np.array(off_latency))\n",
    "df['latency_label'] = latency_label\n",
    "df['flash_luminance_class']=flash_luminance_class\n",
    "df['flash_bgi_bright']=flash_bgi_bright\n",
    "df['flash_bgi_dark']=flash_bgi_dark\n",
    "df['flash_bgi_best']=flash_bgi_best\n",
    "df['flash_bgi2_dark']=flash_bgi2_dark\n",
    "df['flash_bgi2_bright']=flash_bgi2_bright\n",
    "df['flash_bgi2_best']=flash_bgi2_best"
   ]
  },
  {
   "cell_type": "markdown",
   "metadata": {},
   "source": [
    "###plot example cells from figure 2A"
   ]
  },
  {
   "cell_type": "code",
   "execution_count": null,
   "metadata": {
    "collapsed": false
   },
   "outputs": [],
   "source": [
    "%%html\n",
    "<style>\n",
    "div.input {\n",
    "    display:none;\n",
    "}\n",
    "</style>\n",
    "\n",
    "f,ax = plt.subplots(2,2,figsize=(9,4))\n",
    "ymax = 155\n",
    "\n",
    "#cell i\n",
    "nwb_data = data['M179401']\n",
    "cell = str(cell_numbers['M179401']['lgn_list_ex'][-1])\n",
    "f=psth_line(np.array(nwb_data['processing']['LGN']['UnitTimes'][cell]['times']),\n",
    "            np.array(nwb_data['stimulus']['presentation']['flash_green']['timestamps'])[1::2],\n",
    "            binsize=binsize,pre=pre,post=post,timeDomain=True,output='fig',\n",
    "            axes=ax[0][0],color=Green,sparse=True,ymax=ymax)\n",
    "f=psth_line(np.array(nwb_data['processing']['LGN']['UnitTimes'][cell]['times']),\n",
    "            np.array(nwb_data['stimulus']['presentation']['flash_green']['timestamps'])[2::2],\n",
    "            binsize=binsize,pre=pre,post=post,timeDomain=True,output='fig',\n",
    "            axes=ax[1][0],color=Green,ymax=ymax)\n",
    "f=psth_line(np.array(nwb_data['processing']['LGN']['UnitTimes'][cell]['times']),\n",
    "            np.array(nwb_data['stimulus']['presentation']['flash_uv']['timestamps'])[1::2]+0.016,\n",
    "            binsize=binsize,pre=pre,post=post,timeDomain=True,output='fig',\n",
    "            axes=ax[0][0],color=UV,sparse=True,ymax=ymax)\n",
    "f=psth_line(np.array(nwb_data['processing']['LGN']['UnitTimes'][cell]['times']),\n",
    "            np.array(nwb_data['stimulus']['presentation']['flash_uv']['timestamps'])[2::2]+0.016,\n",
    "            binsize=binsize,pre=pre,post=post,timeDomain=True,output='fig',\n",
    "            axes=ax[1][0],color=UV,ymax=ymax)\n",
    "\n",
    "\n",
    "#cell ii\n",
    "nwb_data = data['M181423']\n",
    "cell = str(101)#str(cell_numbers['M181423']['lgn_list_ex'][-10])\n",
    "f=psth_line(np.array(nwb_data['processing']['LGN']['UnitTimes'][cell]['times']),\n",
    "            np.array(nwb_data['stimulus']['presentation']['flash_green']['timestamps'])[1::2],\n",
    "            binsize=binsize,pre=pre,post=post,timeDomain=True,output='fig',\n",
    "            axes=ax[0][1],color=Green,sparse=True,ymax=ymax)\n",
    "f=psth_line(np.array(nwb_data['processing']['LGN']['UnitTimes'][cell]['times']),\n",
    "            np.array(nwb_data['stimulus']['presentation']['flash_green']['timestamps'])[2::2],\n",
    "            binsize=binsize,pre=pre,post=post,timeDomain=True,output='fig',\n",
    "            axes=ax[1][1],color=Green,ymax=ymax)\n",
    "f=psth_line(np.array(nwb_data['processing']['LGN']['UnitTimes'][cell]['times']),\n",
    "            np.array(nwb_data['stimulus']['presentation']['flash_uv']['timestamps'])[1::2]+0.016,\n",
    "            binsize=binsize,pre=pre,post=post,timeDomain=True,output='fig',\n",
    "            axes=ax[0][1],color=UV,sparse=True,ymax=ymax)\n",
    "f=psth_line(np.array(nwb_data['processing']['LGN']['UnitTimes'][cell]['times']),\n",
    "            np.array(nwb_data['stimulus']['presentation']['flash_uv']['timestamps'])[2::2]+0.016,\n",
    "            binsize=binsize,pre=pre,post=post,timeDomain=True,output='fig',\n",
    "            axes=ax[1][1],color=UV,ymax=ymax)\n",
    "\n",
    "ax[0][0].add_patch(patches.Rectangle((0,0),0.05,ymax,edgecolor='k',fill=None));\n",
    "ax[1][0].add_patch(patches.Rectangle((0,0),0.05,ymax,color='k',alpha=0.5));\n",
    "ax[0][1].add_patch(patches.Rectangle((0,0),0.05,ymax,edgecolor='k',fill=None));\n",
    "ax[1][1].add_patch(patches.Rectangle((0,0),0.05,ymax,color='k',alpha=0.5));\n",
    "for axis in ax.flatten():\n",
    "    axis.set_xlim(-0.1,0.5)\n",
    "plt.tight_layout()"
   ]
  },
  {
   "cell_type": "markdown",
   "metadata": {},
   "source": [
    "###make scatter chart for figure 2B\n",
    "####first, find the color that generates the peak response. then compare ON and OFF latency"
   ]
  },
  {
   "cell_type": "code",
   "execution_count": null,
   "metadata": {
    "collapsed": false
   },
   "outputs": [],
   "source": [
    "plt.figure()\n",
    "plt.scatter(df['flash_green_ON_latency'],df['flash_green_OFF_latency'],edgecolor='k',facecolor=Green,s=40,alpha=0.6)\n",
    "plt.scatter(df['flash_UV_ON_latency'],df['flash_UV_OFF_latency'],edgecolor='k',facecolor=UV,s=40,alpha=0.6,marker='o')\n",
    "plt.xlim(0,300);plt.ylim(0,300)\n",
    "plt.xlabel('ON latency [msec]')\n",
    "plt.ylabel('OFF latency [msec]')\n",
    "plt.gca().set_aspect('equal')\n",
    "plt.plot([0,300],[0,300],'r--')\n",
    "\n",
    "on_latency = []\n",
    "off_latency = []\n",
    "for i in range(np.shape(df)[0]):\n",
    "    maxi = 0\n",
    "    for stim in ['UV_OFF','UV_ON','green_OFF','green_ON']:\n",
    "        if df['flash_'+stim+'_peak'][i] > maxi:\n",
    "            maxi = df['flash_'+stim+'_peak'][i]\n",
    "            max_type = stim\n",
    "\n",
    "    if  df['flash_'+max_type.split('_')[0]+'_ON_latency'][i] - df['flash_'+max_type.split('_')[0]+'_OFF_latency'][i] > 30.:\n",
    "        latency_label[i]=2\n",
    "    else:\n",
    "        if  df['flash_'+max_type.split('_')[0]+'_ON_latency'][i] - df['flash_'+max_type.split('_')[0]+'_OFF_latency'][i] < -30.:\n",
    "            latency_label[i]=0\n",
    "        else:\n",
    "            if np.abs( df['flash_'+max_type.split('_')[0]+'_ON_latency'][i] - df['flash_'+max_type.split('_')[0]+'_OFF_latency'][i]) < 30.:\n",
    "                latency_label[i]=1\n",
    "    on_latency.extend([df['flash_'+max_type.split('_')[0]+'_ON_latency'][i]])\n",
    "    off_latency.extend([df['flash_'+max_type.split('_')[0]+'_OFF_latency'][i]])   \n",
    "df['ON_latency'] = np.nan_to_num(np.array(on_latency))\n",
    "df['OFF_latency'] =np.nan_to_num(np.array(off_latency))\n",
    "# for i in range(len(latency_label)):\n",
    "#     if np.abs(df['flash_green_OFF_latency'][i] - df['flash_green_ON_latency'][i]) < 16.:\n",
    "#         latency_label[i]=1\n",
    "\n",
    "\n",
    "plt.figure()\n",
    "df['latency_label']=latency_label\n",
    "plt.scatter(df['OFF_latency'][np.where(latency_label==0)[0]],df['ON_latency'][np.where(latency_label==0)[0]],edgecolor='k',facecolor='#000000',s=40,alpha=0.95)\n",
    "plt.scatter(df['OFF_latency'][np.where(latency_label==1)[0]],df['ON_latency'][np.where(latency_label==1)[0]],edgecolor='k',facecolor='#808080',s=40,alpha=0.95)\n",
    "plt.scatter(df['OFF_latency'][np.where(latency_label==2)[0]],df['ON_latency'][np.where(latency_label==2)[0]],edgecolor='k',facecolor='#FFFFFF',s=40,alpha=0.95)\n",
    "plt.xlim(0,300);plt.ylim(0,300)\n",
    "plt.xlabel('ON latency [msec]')\n",
    "plt.ylabel('OFF latency [msec]')\n",
    "plt.gca().set_aspect('equal')\n",
    "plt.plot([0,300],[0,300],'r--')\n",
    "\n",
    "\n",
    "plt.figure()\n",
    "df['latency_label']=latency_label\n",
    "plt.scatter(df['flash_green_OFF_latency'][np.where(latency_label==0)[0]],df['flash_green_ON_latency'][np.where(latency_label==0)[0]],\n",
    "            edgecolor=Green,facecolor='#000000',s=40,alpha=0.95)\n",
    "plt.scatter(df['flash_green_OFF_latency'][np.where(latency_label==1)[0]],df['flash_green_ON_latency'][np.where(latency_label==1)[0]],\n",
    "            edgecolor=Green,facecolor='#808080',s=40,alpha=0.95)\n",
    "plt.scatter(df['flash_green_OFF_latency'][np.where(latency_label==2)[0]],df['flash_green_ON_latency'][np.where(latency_label==2)[0]],\n",
    "            edgecolor=Green,facecolor='#FFFFFF',s=40,alpha=0.95)\n",
    "plt.scatter(df['flash_UV_OFF_latency'][np.where(latency_label==0)[0]],df['flash_UV_ON_latency'][np.where(latency_label==0)[0]],\n",
    "            edgecolor=UV,facecolor='#000000',s=40,alpha=0.95)\n",
    "plt.scatter(df['flash_UV_OFF_latency'][np.where(latency_label==1)[0]],df['flash_UV_ON_latency'][np.where(latency_label==1)[0]],\n",
    "            edgecolor=UV,facecolor='#808080',s=40,alpha=0.95)\n",
    "plt.scatter(df['flash_UV_OFF_latency'][np.where(latency_label==2)[0]],df['flash_UV_ON_latency'][np.where(latency_label==2)[0]],\n",
    "            edgecolor=UV,facecolor='#FFFFFF',s=40,alpha=0.95)\n",
    "plt.xlim(0,300);plt.ylim(0,300)\n",
    "plt.xlabel('ON latency [msec]')\n",
    "plt.ylabel('OFF latency [msec]')\n",
    "plt.gca().set_aspect('equal')\n",
    "plt.plot([0,300],[0,300],'r--')\n",
    "\n",
    "\n",
    "# make a square figure and axes\n",
    "plt.figure(figsize=(6,6))\n",
    "ax = plt.axes([0.1, 0.1, 0.8, 0.8])\n",
    "\n",
    "# The slices will be ordered and plotted counter-clockwise.\n",
    "labels = 'ON', 'OFF', 'ON/OFF'\n",
    "fracs = [np.shape(np.where(latency_label==2)[0])[0], np.shape(np.where(latency_label==0)[0])[0], np.shape(np.where(latency_label==1)[0])[0]]\n",
    "colors = ['white', 'black', 'grey']\n",
    "#explode=(0, 0.05, 0, 0)\n",
    "\n",
    "patches_l, texts, autotexts = plt.pie(fracs, labels=labels,colors=colors,\n",
    "                autopct='%1.1f%%', shadow=True, startangle=90)\n",
    "                # The default startangle is 0, which would start\n",
    "                # the Frogs slice on the x-axis.  With startangle=90,\n",
    "                # everything is rotated counter-clockwise by 90 degrees,\n",
    "                # so the plotting starts on the positive y-axis.\n",
    "for text in texts:\n",
    "    text.set_fontsize(20)\n",
    "for text in autotexts:\n",
    "    text.set_fontsize(24)\n",
    "autotexts[2].set_color('white')\n",
    "autotexts[1].set_color('white')\n",
    "\n",
    "#title('Raining Hogs and Dogs', bbox={'facecolor':'0.8', 'pad':5})\n",
    "#plt.gcf().savefig(r'C:\\Users\\danield\\OneDrive for Business\\talks\\20160202_neuralCoding\\flash_latency_pie_kmeans_g.eps',format='eps')\n"
   ]
  },
  {
   "cell_type": "markdown",
   "metadata": {
    "collapsed": true
   },
   "source": [
    "### figure(s) 2DEF"
   ]
  },
  {
   "cell_type": "code",
   "execution_count": null,
   "metadata": {
    "collapsed": false
   },
   "outputs": [],
   "source": [
    "f,ax = plt.subplots(1,3,figsize=(6,2))\n",
    "ax[0].hist(np.array(df['flash_bgi_best'][df['flash_luminance_class']=='ON']),range=(-1,1),bins=11)\n",
    "ax[1].hist(np.array(df['flash_bgi_best'][df['flash_luminance_class']=='OFF']),range=(-1,1),bins=11)\n",
    "ax[2].hist(np.array(df['flash_bgi_best'][df['flash_luminance_class']=='ON/OFF']),range=(-1,1),bins=11)\n",
    "for axis in ax:\n",
    "    axis.set_ylim(0,25)\n",
    "    cleanAxes(axis,bottomLabels=True,leftLabels=True)\n",
    "#plt.gcf().savefig(r'C:\\Users\\danield\\OneDrive for Business\\talks\\20160202_neuralCoding\\classification_color.eps',format='eps')\n",
    "\n",
    "# make a square figure and axes\n",
    "plt.figure(figsize=(6,6))\n",
    "ax = plt.axes([0.1, 0.1, 0.8, 0.8])\n",
    "\n",
    "# The slices will be ordered and plotted counter-clockwise.\n",
    "labels = 'UV', 'green', 'mixed'\n",
    "df2 = df[df.latency_label==2]\n",
    "fracs = [len(df2[df2['flash_bgi_best'] < -0.3])/float(len(df2)),\n",
    "         len(df2[df2['flash_bgi_best'] > 0.3])/float(len(df2)),\n",
    "         len(df2[df2['flash_bgi_best'] > -0.3][df2['flash_bgi_best'] < 0.3])/float(len(df2))]\n",
    "colors = [UV, Green, '#FFFFFF']\n",
    "#explode=(0, 0.05, 0, 0)\n",
    "\n",
    "patches, texts, autotexts = plt.pie(fracs, labels=labels,colors=colors,\n",
    "                autopct='%1.1f%%', shadow=True, startangle=90)\n",
    "                # The default startangle is 0, which would start\n",
    "                # the Frogs slice on the x-axis.  With startangle=90,\n",
    "                # everything is rotated counter-clockwise by 90 degrees,\n",
    "                # so the plotting starts on the positive y-axis.\n",
    "for text in texts:\n",
    "    text.set_fontsize(20)\n",
    "for text in autotexts:\n",
    "    text.set_fontsize(24)\n",
    "autotexts[0].set_color('white')\n",
    "autotexts[1].set_color('white')\n",
    "\n",
    "plt.gca().set_title('ON', bbox={'facecolor':'0.8', 'pad':5})\n",
    "#plt.gcf().savefig(r'C:\\Users\\danield\\OneDrive for Business\\talks\\20160202_neuralCoding\\classification_color_ON.eps',format='eps')\n",
    "\n",
    "# make a square figure and axes\n",
    "plt.figure(figsize=(6,6))\n",
    "ax = plt.axes([0.1, 0.1, 0.8, 0.8])\n",
    "\n",
    "# The slices will be ordered and plotted counter-clockwise.\n",
    "labels = 'UV', 'green', 'mixed'\n",
    "df2 = df[df.latency_label==0]\n",
    "fracs = [len(df2[df2['flash_bgi_best'] < -0.3])/float(len(df2)),\n",
    "         len(df2[df2['flash_bgi_best'] > 0.3])/float(len(df2)),\n",
    "         len(df2[df2['flash_bgi_best'] > -0.3][df2['flash_bgi_best'] < 0.3])/float(len(df2))]\n",
    "colors = [UV, Green, '#FFFFFF']\n",
    "#explode=(0, 0.05, 0, 0)\n",
    "\n",
    "patches, texts, autotexts = plt.pie(fracs, labels=labels,colors=colors,\n",
    "                autopct='%1.1f%%', shadow=True, startangle=90)\n",
    "                # The default startangle is 0, which would start\n",
    "                # the Frogs slice on the x-axis.  With startangle=90,\n",
    "                # everything is rotated counter-clockwise by 90 degrees,\n",
    "                # so the plotting starts on the positive y-axis.\n",
    "for text in texts:\n",
    "    text.set_fontsize(20)\n",
    "for text in autotexts:\n",
    "    text.set_fontsize(24)\n",
    "autotexts[0].set_color('white')\n",
    "autotexts[1].set_color('white')\n",
    "\n",
    "plt.gca().set_title('OFF', bbox={'facecolor':'0.8', 'pad':5})\n",
    "#plt.gcf().savefig(r'C:\\Users\\danield\\OneDrive for Business\\talks\\20160202_neuralCoding\\classification_color_OFF.eps',format='eps')\n",
    "\n",
    "# make a square figure and axes\n",
    "plt.figure(figsize=(6,6))\n",
    "ax = plt.axes([0.1, 0.1, 0.8, 0.8])\n",
    "\n",
    "# The slices will be ordered and plotted counter-clockwise.\n",
    "labels = 'UV', 'green', 'mixed'\n",
    "df2 = df[df.latency_label==1]\n",
    "fracs = [len(df2[df2['flash_bgi_best'] < -0.3])/float(len(df2)),\n",
    "         len(df2[df2['flash_bgi_best'] > 0.3])/float(len(df2)),\n",
    "         len(df2[df2['flash_bgi_best'] > -0.3][df2['flash_bgi_best'] < 0.3])/float(len(df2))]\n",
    "colors = [UV, Green, '#FFFFFF']\n",
    "#explode=(0, 0.05, 0, 0)\n",
    "\n",
    "patches, texts, autotexts = plt.pie(fracs, labels=labels,colors=colors,\n",
    "                autopct='%1.1f%%', shadow=True, startangle=90)\n",
    "                # The default startangle is 0, which would start\n",
    "                # the Frogs slice on the x-axis.  With startangle=90,\n",
    "                # everything is rotated counter-clockwise by 90 degrees,\n",
    "                # so the plotting starts on the positive y-axis.\n",
    "for text in texts:\n",
    "    text.set_fontsize(20)\n",
    "for text in autotexts:\n",
    "    text.set_fontsize(24)\n",
    "autotexts[0].set_color('white')\n",
    "autotexts[1].set_color('white')\n",
    "\n",
    "plt.gca().set_title('ON/OFF', bbox={'facecolor':'0.8', 'pad':5})\n",
    "#plt.gcf().savefig(r'C:\\Users\\danield\\OneDrive for Business\\talks\\20160202_neuralCoding\\classification_color_ONOFF.eps',format='eps')\n",
    "\n",
    "\n"
   ]
  },
  {
   "cell_type": "markdown",
   "metadata": {},
   "source": [
    "<br></br>\n",
    "<br></br>\n",
    "<br></br>\n",
    "<br></br>\n",
    "<br></br>\n",
    "<br></br>\n",
    "<br></br>\n",
    "<br></br>\n",
    "<br></br>\n",
    "<div style=\"font-size:16pt;color:#000000\"><strong><font size='20' color='red'>Figure 3</font></strong></div>"
   ]
  },
  {
   "cell_type": "markdown",
   "metadata": {},
   "source": [
    "<br></br><div style=\"font-size:12pt;color:#000000\"> load calculated spike-triggered average for each cell. each has been fit with 2D Gaussian, using fit_rf_2Dgauss_centerFixed() in color_units.py </div> \n",
    "<div style=\"font-size:9pt;color:#000000\"> stas have been computed separately for each experiment, and pre-loaded here to save time.</div> "
   ]
  },
  {
   "cell_type": "code",
   "execution_count": null,
   "metadata": {
    "collapsed": true
   },
   "outputs": [],
   "source": [
    "df_rf = pkl.load(open(os.path.join(pathtodata,'color_units_sandbox.pkl'),'rb'))"
   ]
  },
  {
   "cell_type": "markdown",
   "metadata": {
    "collapsed": true
   },
   "source": [
    "<div style=\"font-size:12pt;color:#000000\"> example cell for figure 3A,B</div> "
   ]
  },
  {
   "cell_type": "code",
   "execution_count": null,
   "metadata": {
    "collapsed": true
   },
   "outputs": [],
   "source": []
  },
  {
   "cell_type": "markdown",
   "metadata": {},
   "source": [
    "<div style=\"font-size:12pt;color:#000000\"> summary plot of receptive fields across space, pseudo-colored based on UVGi from flashes, and binned with means and standard errors along each axis</div> <div> Figure 3C</div> "
   ]
  },
  {
   "cell_type": "code",
   "execution_count": null,
   "metadata": {
    "collapsed": false
   },
   "outputs": [],
   "source": [
    "df2 = df_rf[(np.abs(df_rf['rf_best_s_x']*5.)+np.abs(df_rf['rf_best_s_y']*5.))/2. < 16.] # limit only to reasonable receptive fields\n",
    "df2 = df2[(df2['rf_best_x']-28)*4. > -20]\n",
    "df2 = df2[(df2['rf_best_x']-28)*4. < 80]\n",
    "df2 = df2[(df2['rf_best_y']-28)*4. < 80]\n",
    "bins = 12\n",
    "rang = (-20,80)\n",
    "\n",
    "fig = plt.figure(figsize=(4,4))\n",
    "ax_scatter =  placeAxesOnGrid(fig,dim=(1,1),xspan=(0,0.6),yspan=(0.4,1.0))\n",
    "scatter_withcirclesize(ax_scatter,(df2['rf_best_x']-28)*4.,(df2['rf_best_y']-28)*4.,s=(np.abs(df2['rf_best_s_x']*5.)+np.abs(df2['rf_best_s_y']*5.))/2.,c=np.array(df2['flash_bgi_best']).tolist(),alpha=0.4,cmap=plt.cm.PRGn)\n",
    "ax_scatter.set_xlim(rang[0],rang[1]);plt.xlabel('azimuth (deg)')\n",
    "ax_scatter.set_ylim(rang[0],rang[1]);plt.ylabel('elevation (deg)')\n",
    "ax_scatter.set_aspect('equal')\n",
    "\n",
    "ax_azimuth =  placeAxesOnGrid(fig,dim=(1,1),xspan=(0,0.6),yspan=(0.0,0.37))\n",
    "x_a=(df2['rf_best_x'][~np.isnan(df2['flash_bgi_best'])]-28)*4.\n",
    "y_a=df2['flash_bgi_best'][~np.isnan(df2['flash_bgi_best'])]\n",
    "n_a,_a=np.histogram(x_a,bins=bins,range=rang)\n",
    "sy_a,_a=np.histogram(x_a,bins=bins,range=rang,weights=y_a)\n",
    "sy2_a,_a=np.histogram(x_a,bins=bins,range=rang,weights=y_a*y_a)\n",
    "mean_a = sy_a/n_a\n",
    "std_a = (sy2_a/n_a- mean_a*mean_a)\n",
    "ax_azimuth.errorbar((_a[1:]+_a[:-1])/2,mean_a,fmt='o-',color='k',yerr=std_a)\n",
    "ax_azimuth.set_ylim(-1,1)\n",
    "ax_azimuth.set_ylabel('UVGi')\n",
    "\n",
    "ax_elevation =  placeAxesOnGrid(fig,dim=(1,1),xspan=(0.63,1),yspan=(0.4,1.0))\n",
    "x_e=(df2['rf_best_y'][~np.isnan(df2['flash_bgi_best'])]-28)*4.\n",
    "y_e=df2['flash_bgi_best'][~np.isnan(df2['flash_bgi_best'])]\n",
    "n_e,_=np.histogram(x_e,bins=bins,range=rang)\n",
    "sy_e,_e=np.histogram(x_e,bins=bins,range=rang,weights=y_e)\n",
    "sy2_e,_e=np.histogram(x_e,bins=bins,range=rang,weights=y_e*y_e)\n",
    "mean_e = sy_e/n_e\n",
    "std_e = (sy2_e/n_e- mean_e*mean_e)\n",
    "ax_elevation.errorbar(mean_e,(_e[1:]+_e[:-1])/2,fmt='o-',color='k',xerr=std_e)\n",
    "ax_elevation.set_xlim(-1,1)\n",
    "ax_elevation.set_xlabel('UVGi')\n",
    "cleanAxes(ax_elevation)\n",
    "cleanAxes(ax_azimuth)\n"
   ]
  },
  {
   "cell_type": "markdown",
   "metadata": {},
   "source": [
    "<div style=\"font-size:12pt;color:#000000\"> summary plot of receptive fields across space, pseudo-colored based on UVGi from flashes, limited to only strongly UV and strongly green preferring cells</div> <div> Figure 3D</div> "
   ]
  },
  {
   "cell_type": "code",
   "execution_count": null,
   "metadata": {
    "collapsed": false
   },
   "outputs": [],
   "source": [
    "df2 = df_rf[(np.abs(df_rf['rf_best_s_x']*5.)+np.abs(df_rf['rf_best_s_y']*5.))/2. < 16.] # limit only to reasonable receptive field fits\n",
    "df2 = df2[(df2['rf_best_x']-28)*4. > -20]\n",
    "df2 = df2[(df2['rf_best_x']-28)*4. < 80]\n",
    "df2 = df2[(df2['rf_best_y']-28)*4. < 80]\n",
    "\n",
    "dfg = df2[df2['flash_bgi_best'] > 0.3] # get only the green units\n",
    "dfu = df2[df2['flash_bgi_best'] < -0.3] # get only the UV units\n",
    "\n",
    "bins = 12\n",
    "rang = (-20,80)\n",
    "\n",
    "\n",
    "fig = plt.figure(figsize=(6,6))\n",
    "ax_scatter_g =  placeAxesOnGrid(fig,dim=(1,1),xspan=(0,0.45),yspan=(0.5,1.0))\n",
    "ax_scatter_u =  placeAxesOnGrid(fig,dim=(1,1),xspan=(0.55,1.0),yspan=(0.5,1.0))\n",
    "\n",
    "scatter_withcirclesize(ax_scatter_g,(dfg['rf_best_x']-28)*4.,(dfg['rf_best_y']-28)*4.,s=(np.abs(dfg['rf_best_s_x']*5.)+np.abs(dfg['rf_best_s_y']*5.))/2.,\n",
    "                       c=np.array(dfg['flash_bgi_best']).tolist(),alpha=0.4,cmap=plt.cm.PRGn)\n",
    "scatter_withcirclesize(ax_scatter_u,(dfu['rf_best_x']-28)*4.,(dfu['rf_best_y']-28)*4.,s=(np.abs(dfu['rf_best_s_x']*5.)+np.abs(dfu['rf_best_s_y']*5.))/2.,\n",
    "                       c=np.array(dfu['flash_bgi_best']).tolist(),alpha=0.4,cmap=plt.cm.PRGn)\n",
    "\n",
    "\n",
    "mean_x_g = np.mean((dfg['rf_best_x']-28)*4.)\n",
    "std_x_g = np.std((dfg['rf_best_x']-28)*4.)\n",
    "ste_x_g = std_x_g / np.sqrt(len(dfg['rf_best_x']))\n",
    "mean_y_g = np.mean((dfg['rf_best_y']-28)*4.)\n",
    "std_y_g = np.std((dfg['rf_best_y']-28)*4.)\n",
    "ste_y_g = std_y_g/ np.sqrt(len(dfg['rf_best_y']))\n",
    "ax_scatter_g.errorbar([mean_x_g],[mean_y_g],yerr=[std_y_g],xerr=[std_x_g],color=Green)\n",
    "\n",
    "mean_x_u = np.mean((dfu['rf_best_x']-28)*4.)\n",
    "std_x_u = np.std((dfu['rf_best_x']-28)*4.)\n",
    "ste_x_u = std_x_u / np.sqrt(len(dfu['rf_best_x']))\n",
    "mean_y_u = np.mean((dfu['rf_best_y']-28)*4.)\n",
    "std_y_u = np.std((dfu['rf_best_y']-28)*4.)\n",
    "ste_y_u = std_y_u/ np.sqrt(len(dfu['rf_best_y']))\n",
    "ax_scatter_u.errorbar([mean_x_u],[mean_y_u],yerr=[std_y_u],xerr=[std_x_u],color=UV)\n",
    "\n",
    "for ax_scatter in [ax_scatter_g,ax_scatter_u]:\n",
    "    ax_scatter.set_xlim(rang[0],rang[1]);\n",
    "    ax_scatter.set_ylim(rang[0],rang[1]);\n",
    "    ax_scatter.set_aspect('equal')\n",
    "ax_scatter_g.set_xlabel('azimuth (deg)')\n",
    "ax_scatter_g.set_ylabel('elevation (deg)')\n",
    "ax_scatter_g.set_title('green')\n",
    "ax_scatter_u.set_title('UV')\n"
   ]
  },
  {
   "cell_type": "markdown",
   "metadata": {},
   "source": [
    "<div> histogram of receptive field radius</div> <div> Figure 3E</div> "
   ]
  },
  {
   "cell_type": "code",
   "execution_count": null,
   "metadata": {
    "collapsed": false
   },
   "outputs": [],
   "source": [
    "df2 = df_rf[(np.abs(df_rf['rf_best_s_x']*5.)+np.abs(df_rf['rf_best_s_y']*5.))/2. < 16.] # limit only to reasonable receptive fields\n",
    "df2 = df2[(df2['rf_best_x']-28)*4. > -20]\n",
    "df2 = df2[(df2['rf_best_x']-28)*4. < 80]\n",
    "df2 = df2[(df2['rf_best_y']-28)*4. < 80]\n",
    "\n",
    "dfu = df2[df2['flash_bgi_best'] < -0.3]\n",
    "dfg = df2[df2['flash_bgi_best'] > 0.3]\n",
    "\n",
    "plt.figure()\n",
    "plt.hist((np.abs(df2['rf_best_s_x']*5.)+np.abs(df2['rf_best_s_y']*5.))/2.,bins=15,range=(0,15),normed=False,color='#FFFFFF')\n",
    "#plt.hist(,bins=15,range=(0,15),normed=False)\n",
    "plt.hist((np.array(np.abs(dfu['rf_best_s_x']*5.)+np.abs(dfu['rf_best_s_y']*5.))/2.,\n",
    "         np.array(np.abs(dfg['rf_best_s_x']*5.)+np.abs(dfg['rf_best_s_y']*5.))/2.),\n",
    "            bins=15,range=(0,15),normed=False,stacked=True,color=(UV,Green))\n",
    "plt.xlabel('STRF radius',size=12)\n",
    "plt.ylabel('cell count',size=12)\n",
    "#plt.gca().set_aspect('equal')\n",
    "plt.gca().tick_params(axis='both',labelsize=12)\n",
    "cleanAxes(plt.gca(),bottomLabels=True,leftLabels=True)"
   ]
  },
  {
   "cell_type": "markdown",
   "metadata": {},
   "source": [
    "<div> histogram of receptive field aspect ratios</div> <div> Figure 3F</div> \n"
   ]
  },
  {
   "cell_type": "code",
   "execution_count": null,
   "metadata": {
    "collapsed": false
   },
   "outputs": [],
   "source": [
    "rf_aspect = []\n",
    "for i in range(np.shape(df2)[0]):\n",
    "    if np.abs(df_rf['rf_green_s_x'][i]) > np.abs(np.abs(df_rf['rf_green_s_y'][i])):\n",
    "        rf_aspect.extend([np.abs(df_rf['rf_green_s_y'][i])/np.abs(df_rf['rf_green_s_x'][i])])\n",
    "    else:\n",
    "        rf_aspect.extend([np.abs(df_rf['rf_green_s_x'][i])/np.abs(df_rf['rf_green_s_y'][i])])\n",
    "df2['rf_aspect']=rf_aspect\n",
    "\n",
    "df2 = df_rf[(np.abs(df_rf['rf_best_s_x']*5.)+np.abs(df_rf['rf_best_s_y']*5.))/2. < 16.] # limit only to reasonable receptive fields\n",
    "df2 = df2[(df2['rf_best_x']-28)*4. > -20]\n",
    "df2 = df2[(df2['rf_best_x']-28)*4. < 80]\n",
    "df2 = df2[(df2['rf_best_y']-28)*4. < 80]\n",
    "\n",
    "dfu = df2[df2['flash_bgi_best'] < -0.3]\n",
    "dfg = df2[df2['flash_bgi_best'] > 0.3]\n",
    "\n",
    "plt.figure()\n",
    "plt.hist(df2['rf_aspect'],bins=10,range=(0,1),normed=False,color='#FFFFFF')\n",
    "plt.hist((np.array(dfu['rf_aspect']),\n",
    "         np.array(dfg['rf_aspect'])),\n",
    "            bins=10,range=(0,1),normed=False,stacked=True,color=(UV,Green))\n",
    "\n",
    "plt.xlabel('STRF aspect',size=12)\n",
    "plt.ylabel('cell count',size=12)\n",
    "#plt.gca().set_aspect('equal')\n",
    "plt.gca().tick_params(axis='both',labelsize=12)\n",
    "cleanAxes(plt.gca(),bottomLabels=True,leftLabels=True)"
   ]
  },
  {
   "cell_type": "markdown",
   "metadata": {},
   "source": [
    "<br></br>\n",
    "<br></br>\n",
    "<br></br>\n",
    "<br></br>\n",
    "<br></br>\n",
    "<br></br>\n",
    "<br></br>\n",
    "<div style=\"font-size:16pt;color:#000000\"><strong><font size='20' color='red'>Figure 4</font></strong></div>"
   ]
  },
  {
   "cell_type": "markdown",
   "metadata": {},
   "source": [
    "<div> on and off latencies to green flashes</div> <div> Figure 4A</div> "
   ]
  },
  {
   "cell_type": "code",
   "execution_count": null,
   "metadata": {
    "collapsed": false
   },
   "outputs": [],
   "source": [
    "stim_color = 'green'\n",
    "latency_label_temp = np.zeros(np.shape(df)[0])-1\n",
    "for i in range(np.shape(df)[0]):\n",
    "    if  df['flash_'+stim_color+'_ON_latency'][i] - df['flash_'+stim_color+'_OFF_latency'][i] > 30.:\n",
    "        latency_label_temp[i]=2\n",
    "    else:\n",
    "        if  df['flash_'+stim_color+'_ON_latency'][i] - df['flash_'+stim_color+'_OFF_latency'][i] < -30.:\n",
    "            latency_label_temp[i]=0\n",
    "        else:\n",
    "            if np.abs( df['flash_'+stim_color+'_ON_latency'][i] - df['flash_'+stim_color+'_OFF_latency'][i]) < 30.:\n",
    "                latency_label_temp[i]=1\n",
    "\n",
    "plt.scatter(df['flash_green_OFF_latency'][np.where(latency_label_temp==0)[0]],df['flash_green_ON_latency'][np.where(latency_label_temp==0)[0]],edgecolor='k',facecolor='#000000',s=40,alpha=0.95)\n",
    "plt.scatter(df['flash_green_OFF_latency'][np.where(latency_label_temp==1)[0]],df['flash_green_ON_latency'][np.where(latency_label_temp==1)[0]],edgecolor='k',facecolor='#808080',s=40,alpha=0.95)\n",
    "plt.scatter(df['flash_green_OFF_latency'][np.where(latency_label_temp==2)[0]],df['flash_green_ON_latency'][np.where(latency_label_temp==2)[0]],edgecolor='k',facecolor='#FFFFFF',s=40,alpha=0.95)\n",
    "plt.xlim(0,300);plt.ylim(0,300)\n",
    "plt.xlabel('ON latency [msec]',size=14)\n",
    "plt.ylabel('OFF latency [msec]',size=14)\n",
    "plt.gca().set_aspect('equal')\n",
    "plt.plot([0,300],[0,300],'r--')\n",
    "\n",
    "# make a square figure and axes\n",
    "plt.figure(figsize=(6,6))\n",
    "ax = plt.axes([0.1, 0.1, 0.8, 0.8])\n",
    "\n",
    "# The slices will be ordered and plotted counter-clockwise.\n",
    "labels = 'ON', 'OFF', 'ON/OFF'\n",
    "fracs = [np.shape(np.where(latency_label_temp==2)[0])[0], np.shape(np.where(latency_label_temp==0)[0])[0],np.shape(np.where(latency_label_temp==1)[0])[0]]\n",
    "colors = ['white', 'black', 'grey']\n",
    "#explode=(0, 0.05, 0, 0)\n",
    "\n",
    "patches, texts, autotexts = plt.pie(fracs, labels=labels,colors=colors,\n",
    "                autopct='%1.1f%%', shadow=True, startangle=90)\n",
    "for text in texts:\n",
    "    text.set_fontsize(20)\n",
    "for text in autotexts:\n",
    "    text.set_fontsize(24)\n",
    "autotexts[2].set_color('white')\n",
    "autotexts[1].set_color('white')\n",
    "\n"
   ]
  },
  {
   "cell_type": "markdown",
   "metadata": {},
   "source": [
    "<div> on and off latencies to UV flashes</div> <div> Figure 4B</div> "
   ]
  },
  {
   "cell_type": "code",
   "execution_count": null,
   "metadata": {
    "collapsed": false
   },
   "outputs": [],
   "source": [
    "stim_color = 'UV'\n",
    "latency_label_temp = np.zeros(np.shape(df)[0])-1\n",
    "for i in range(np.shape(df)[0]):\n",
    "    if  df['flash_'+stim_color+'_ON_latency'][i] - df['flash_'+stim_color+'_OFF_latency'][i] > 30.:\n",
    "        latency_label_temp[i]=2\n",
    "    else:\n",
    "        if  df['flash_'+stim_color+'_ON_latency'][i] - df['flash_'+stim_color+'_OFF_latency'][i] < -30.:\n",
    "            latency_label_temp[i]=0\n",
    "        else:\n",
    "            if np.abs( df['flash_'+stim_color+'_ON_latency'][i] - df['flash_'+stim_color+'_OFF_latency'][i]) < 30.:\n",
    "                latency_label_temp[i]=1\n",
    "\n",
    "plt.scatter(df['flash_'+stim_color+'_OFF_latency'][np.where(latency_label_temp==0)[0]],df['flash_'+stim_color+'_ON_latency'][np.where(latency_label_temp==0)[0]],edgecolor='k',facecolor='#000000',s=40,alpha=0.95)\n",
    "plt.scatter(df['flash_'+stim_color+'_OFF_latency'][np.where(latency_label_temp==1)[0]],df['flash_'+stim_color+'_ON_latency'][np.where(latency_label_temp==1)[0]],edgecolor='k',facecolor='#808080',s=40,alpha=0.95)\n",
    "plt.scatter(df['flash_'+stim_color+'_OFF_latency'][np.where(latency_label_temp==2)[0]],df['flash_'+stim_color+'_ON_latency'][np.where(latency_label_temp==2)[0]],edgecolor='k',facecolor='#FFFFFF',s=40,alpha=0.95)\n",
    "plt.xlim(0,300);plt.ylim(0,300)\n",
    "plt.xlabel('ON latency [msec]',size=14)\n",
    "plt.ylabel('OFF latency [msec]',size=14)\n",
    "plt.gca().set_aspect('equal')\n",
    "plt.plot([0,300],[0,300],'r--')\n",
    "\n",
    "# make a square figure and axes\n",
    "plt.figure(figsize=(6,6))\n",
    "ax = plt.axes([0.1, 0.1, 0.8, 0.8])\n",
    "\n",
    "# The slices will be ordered and plotted counter-clockwise.\n",
    "labels = 'ON', 'OFF', 'ON/OFF'\n",
    "fracs = [np.shape(np.where(latency_label_temp==2)[0])[0], np.shape(np.where(latency_label_temp==0)[0])[0],np.shape(np.where(latency_label_temp==1)[0])[0]]\n",
    "colors = ['white', 'black', 'grey']\n",
    "#explode=(0, 0.05, 0, 0)\n",
    "\n",
    "patches, texts, autotexts = plt.pie(fracs, labels=labels,colors=colors,\n",
    "                autopct='%1.1f%%', shadow=True, startangle=90)\n",
    "for text in texts:\n",
    "    text.set_fontsize(20)\n",
    "for text in autotexts:\n",
    "    text.set_fontsize(24)\n",
    "autotexts[2].set_color('white')\n",
    "autotexts[1].set_color('white')\n",
    "\n"
   ]
  },
  {
   "cell_type": "markdown",
   "metadata": {},
   "source": [
    "<div> green and uv latencies, for the appropriate sign flash</div> <div> Figure 4C</div> \n",
    "<br></br>\n",
    "<div> difference between green and uv latencies, for appropriate sign flash</div> <div> Figure 4D</div> "
   ]
  },
  {
   "cell_type": "code",
   "execution_count": null,
   "metadata": {
    "collapsed": false
   },
   "outputs": [],
   "source": [
    "plt.plot(df['flash_green_ON_latency'][np.where(df['latency_label']==0)[0]],df['flash_UV_ON_latency'][np.where(df['latency_label']==0)[0]],'o',color='#000000',alpha=1.0)\n",
    "plt.plot(df['flash_green_OFF_latency'][np.where(df['latency_label']==2)[0]],df['flash_UV_OFF_latency'][np.where(df['latency_label']==2)[0]],'o',color='#FFFFFF',alpha=1.0)\n",
    "plt.xlim(0,300);plt.ylim(0,300)\n",
    "plt.xlabel('green latency (msec)',size=14)\n",
    "plt.ylabel('UV latency (msec)',size=14)\n",
    "plt.gca().set_aspect('equal')\n",
    "plt.plot([0,300],[0,300],'r--')\n",
    "cleanAxes(plt.gca())\n",
    "\n",
    "plt.figure()\n",
    "latency_diff_on = df['flash_green_ON_latency'][np.where(df['latency_label']==0)[0]] - df['flash_UV_ON_latency'][np.where(df['latency_label']==0)[0]]\n",
    "latency_diff_off = df['flash_green_OFF_latency'][np.where(df['latency_label']==2)[0]]- df['flash_UV_OFF_latency'][np.where(df['latency_label']==2)[0]]\n",
    "f = plt.hist((np.array(np.nan_to_num(latency_diff_on)),np.array(np.nan_to_num(latency_diff_off))),range=(-200,200),bins=20,color=('#000000','#FFFFFF'),stacked=False,rwidth=10)\n",
    "plt.xlabel('green - UV latency (msec)',size=14)\n",
    "plt.ylabel('cell count',size=14)\n",
    "cleanAxes(plt.gca())"
   ]
  },
  {
   "cell_type": "markdown",
   "metadata": {},
   "source": [
    "<br></br>\n",
    "<br></br>\n",
    "<br></br>\n",
    "<br></br>\n",
    "<br></br>\n",
    "<br></br>\n",
    "<br></br>\n",
    "<br></br>\n",
    "<div style=\"font-size:16pt;color:#000000\"><strong><font size='20' color='red'>Figure 5</font></strong></div>\n",
    "<br></br>\n",
    "<div> extract some information from the color exchange experiments. for use in figures 5 and 6</div>\n"
   ]
  },
  {
   "cell_type": "code",
   "execution_count": null,
   "metadata": {
    "collapsed": true
   },
   "outputs": [],
   "source": [
    "        #---------------------------------------------------------------------------------------------------------------------------------------\n",
    "        #calculate the PSTH for each cell, for each color, for increments and decrements \n",
    "        psth = psth_line(np.array(nwb_data['processing']['LGN']['UnitTimes'][cell]['times']),\n",
    "                         np.array(nwb_data['stimulus']['presentation']['flash_green']['timestamps'])[1::2],\n",
    "                         binsize=binsize,pre=pre,post=post,timeDomain=True,output='hist')"
   ]
  },
  {
   "cell_type": "code",
   "execution_count": null,
   "metadata": {
    "collapsed": true
   },
   "outputs": [],
   "source": [
    "exchange_class = []; exchange_class_fromplot = []; exchange_tsi = []\n",
    "exchange_gdark = []; exchange_gbright = []; exchange_ubright = []; exchange_udark = []\n",
    "\n",
    "for i in range(np.shape(df)[0]):        \n",
    "    nwb_data = data[df['Experiment'][i]]\n",
    "    cell = str(str(df['Cell'][i]))\n",
    "    \n",
    "    if  'color_exchange_uv' in nwb_data['stimulus']['presentation'].keys() or 'color_exchange_green' in nwb_data['stimulus']['presentation'].keys():\n",
    "        mx=0\n",
    "        if 'color_exchange_uv' in nwb_data['stimulus']['presentation'].keys():\n",
    "            \n",
    "            for k in all_data[df['Experiment'][i]]['all']['lgn'][cell]['color_exchange_uv'].keys():\n",
    "                if np.max(all_data[df['Experiment'][i]]['all']['lgn'][cell]['color_exchange_uv'][k][0]) > mx:\n",
    "                    a=all_data[df['Experiment'][i]]['all']['lgn'][cell]['color_exchange_uv'][-1.0]\n",
    "                    transient = np.max(a[0][np.where(a[1]>0)[0][0]-1:np.where(a[1]>1.0)[0][0]+1])\n",
    "                    sustained = np.mean(a[0][np.where(a[1]>0)[0][0]-1:np.where(a[1]>1.0)[0][0]+1])\n",
    "                    tsi = (transient - sustained) / (transient + sustained)\n",
    "                    mx =np.max(all_data[df['Experiment'][i]]['all']['lgn'][cell]['color_exchange_uv'][k])\n",
    "#             if all_data[df['Experiment'][i]]['all']['lgn'][cell]['color_exchange_uv'][-1.0][0] == None:\n",
    "#                 exchange_udark.extend([np.nan])\n",
    "#                 exchange_ubright.extend([np.nan])\n",
    "#             else:\n",
    "#                 exchange_udark.extend([np.max(all_data[df['Experiment'][i]]['all']['lgn'][cell]['color_exchange_uv'][-1.0][0][12:66])/mx])\n",
    "#                 exchange_ubright.extend([np.max(all_data[df['Experiment'][i]]['all']['lgn'][cell]['color_exchange_uv'][1.0][0][12:66]/mx)])\n",
    "#         else:\n",
    "#             pass\n",
    "#             #exchange_udark.extend([np.nan])\n",
    "#             #exchange_ubright.extend([np.nan])\n",
    "            if all_data[df['Experiment'][i]]['all']['lgn'][cell]['color_exchange_uv'][-1.0][0] == None:\n",
    "                exchange_gdark.extend([np.nan])\n",
    "                exchange_gbright.extend([np.nan])\n",
    "            else:\n",
    "                (green_responses_dark,green_responses_bright) = plotExchangeFromPSTH_2(all_data[df['Experiment'][i]],cell,'uv',dataonly=True)\n",
    "                exchange_gdark.extend([np.mean(green_responses_dark[0:3])])\n",
    "                exchange_gbright.extend([np.mean(green_responses_bright[0:3])])\n",
    "                \n",
    "        if 'color_exchange_green' in all_data[df['Experiment'][i]]['all']['lgn'][cell].keys(): \n",
    "            for k in all_data[df['Experiment'][i]]['all']['lgn'][cell]['color_exchange_green'].keys():\n",
    "                if np.max(all_data[df['Experiment'][i]]['all']['lgn'][cell]['color_exchange_green'][k]) > mx:\n",
    "                    a=all_data[df['Experiment'][i]]['all']['lgn'][cell]['color_exchange_green'][-1.0]\n",
    "                    transient = np.max(a[0][np.where(a[1]>0)[0][0]-1:np.where(a[1]>1.0)[0][0]+1])\n",
    "                    sustained = np.mean(a[0][np.where(a[1]>0)[0][0]-1:np.where(a[1]>1.0)[0][0]+1])\n",
    "                    tsi = (transient - sustained) / (transient + sustained)\n",
    "                    mx =np.max(all_data[df['Experiment'][i]]['all']['lgn'][cell]['color_exchange_green'][k][0][12:66])\n",
    "#             if all_data[df['Experiment'][i]]['all']['lgn'][cell]['color_exchange_green'][-1.0][0] == None:\n",
    "#                 exchange_gdark.extend([np.nan])\n",
    "#                 exchange_gbright.extend([np.nan])\n",
    "#             else:\n",
    "#                 exchange_gdark.extend([np.max(all_data[df['Experiment'][i]]['all']['lgn'][cell]['color_exchange_green'][-1.0][0][12:66])/mx])\n",
    "#                 exchange_gbright.extend([np.max(all_data[df['Experiment'][i]]['all']['lgn'][cell]['color_exchange_green'][1.0][0][12:66])/mx])\n",
    "#         else:\n",
    "#             pass\n",
    "#             #exchange_gdark.extend([np.nan])\n",
    "#             #exchange_gbright.extend([np.nan])            \n",
    "            if all_data[df['Experiment'][i]]['all']['lgn'][cell]['color_exchange_green'][-1.0][0] == None:\n",
    "                exchange_udark.extend([np.nan])\n",
    "                exchange_ubright.extend([np.nan])\n",
    "            else:\n",
    "                (uv_responses_dark,uv_responses_bright) = plotExchangeFromPSTH_2(all_data[df['Experiment'][i]],cell,'green',dataonly=True)\n",
    "                exchange_udark.extend([np.mean(uv_responses_dark[0:3])])\n",
    "                exchange_ubright.extend([np.mean(uv_responses_bright[0:3])])\n",
    "        if exchange_gbright[-1] - exchange_ubright[-1] > 1.2:\n",
    "            exchange_class_fromplot.extend(['gONuOFF'])\n",
    "        else:\n",
    "            if exchange_gdark[-1] - exchange_udark[-1] > 1.2:\n",
    "                exchange_class_fromplot.extend(['gOFFuON'])\n",
    "            else:\n",
    "                if exchange_gdark[-1] - exchange_udark[-1] > -0.2 and (exchange_gdark[-1] - exchange_udark[-1]) - (exchange_gbright[-1] - exchange_ubright[-1]) > 0.2 :\n",
    "                    exchange_class_fromplot.extend(['OFF'])\n",
    "                else:\n",
    "                    if exchange_gbright[-1] - exchange_ubright[-1] > -0.2 and (exchange_gbright[-1] - exchange_ubright[-1]) - (exchange_gdark[-1] - exchange_udark[-1]) > 0.2 :\n",
    "                        exchange_class_fromplot.extend(['ON'])\n",
    "                    else:\n",
    "                        exchange_class_fromplot.extend(['ONOFF'])\n",
    "                            \n",
    "        if df['Cell'][i] in all_data[df['Experiment'][i]]['OFF_list']:\n",
    "            exchange_class.extend(['OFF'])\n",
    "        else:\n",
    "            if df['Cell'][i] in all_data[df['Experiment'][i]]['ON_list']:\n",
    "                exchange_class.extend(['ON'])\n",
    "            else:\n",
    "                if df['Cell'][i] in all_data[df['Experiment'][i]]['ONOFF_list']:\n",
    "                    exchange_class.extend(['ONOFF'])  \n",
    "                else:\n",
    "                    if df['Cell'][i] in all_data[df['Experiment'][i]]['color_list']:\n",
    "                        exchange_class.extend(['color'])\n",
    "                    else:\n",
    "                        exchange_class.extend([None])                     \n",
    "        exchange_tsi.extend([tsi])\n",
    "    else:\n",
    "        exchange_class.extend([None])\n",
    "        exchange_class_fromplot.extend([None])\n",
    "        exchange_tsi.extend([None])\n",
    "        exchange_gdark.extend([np.nan])\n",
    "        exchange_gbright.extend([np.nan])\n",
    "        exchange_ubright.extend([np.nan])\n",
    "        exchange_udark.extend([np.nan])\n",
    "        \n",
    "df['exchange_class']=exchange_class\n",
    "df['exchange_class_fromplot']=exchange_class_fromplot\n",
    "df['exchange_tsi']=exchange_tsi\n",
    "df['exchange_gdark']=exchange_gdark \n",
    "df['exchange_gbright']=exchange_gbright \n",
    "df['exchange_ubright']=exchange_ubright \n",
    "df['exchange_udark']=exchange_udark "
   ]
  },
  {
   "cell_type": "markdown",
   "metadata": {
    "collapsed": true
   },
   "source": [
    "5A. this is a drawing, produced by hand elsewhere"
   ]
  },
  {
   "cell_type": "code",
   "execution_count": null,
   "metadata": {
    "collapsed": true
   },
   "outputs": [],
   "source": [
    "plt.imshow(os.path.join(pathtodata,'fig_5a.png')\n",
    "cleanAxes(plt.gca(),total=True)"
   ]
  },
  {
   "cell_type": "markdown",
   "metadata": {},
   "source": [
    "5B. Example non-opponent OFF cell in the color exchange protocol"
   ]
  },
  {
   "cell_type": "code",
   "execution_count": null,
   "metadata": {
    "collapsed": true
   },
   "outputs": [],
   "source": [
    "expt = 'M186118'\n",
    "cell = '371'"
   ]
  },
  {
   "cell_type": "markdown",
   "metadata": {},
   "source": [
    "5C. Example opponent green-off / uv-on cell in the color exchange protocol"
   ]
  },
  {
   "cell_type": "code",
   "execution_count": null,
   "metadata": {
    "collapsed": true
   },
   "outputs": [],
   "source": [
    "expt = 'M186118'\n",
    "cell = '430'"
   ]
  },
  {
   "cell_type": "markdown",
   "metadata": {},
   "source": [
    "5D and 5E. classification of responses from the plots in 5B and 5C"
   ]
  },
  {
   "cell_type": "code",
   "execution_count": null,
   "metadata": {
    "collapsed": true
   },
   "outputs": [],
   "source": [
    "bright_diff = df['exchange_gbright'] - df['exchange_ubright']\n",
    "dark_diff = df['exchange_gdark'] - df['exchange_udark']\n",
    "\n",
    "plt.figure()\n",
    "plt.hist(bright_diff[np.isfinite(bright_diff)],range=(-2,2),bins=20)\n",
    "\n",
    "plt.figure()\n",
    "plt.hist(dark_diff[np.isfinite(dark_diff)],range=(-2,2),bins=20)\n"
   ]
  },
  {
   "cell_type": "markdown",
   "metadata": {},
   "source": [
    "<br></br>\n",
    "<br></br>\n",
    "<br></br>\n",
    "<br></br>\n",
    "<br></br>\n",
    "<br></br>\n",
    "<br></br>\n",
    "<br></br>\n",
    "<div style=\"font-size:16pt;color:#000000\"><strong><font size='20' color='red'>Figure 6</font></strong></div>"
   ]
  },
  {
   "cell_type": "markdown",
   "metadata": {
    "collapsed": true
   },
   "source": [
    "examples, 6A"
   ]
  },
  {
   "cell_type": "code",
   "execution_count": null,
   "metadata": {
    "collapsed": true
   },
   "outputs": [],
   "source": []
  },
  {
   "cell_type": "markdown",
   "metadata": {},
   "source": [
    "histogram, fig 6B"
   ]
  },
  {
   "cell_type": "code",
   "execution_count": null,
   "metadata": {
    "collapsed": true
   },
   "outputs": [],
   "source": [
    "plt.figure()\n",
    "plt.hist((np.array(df[df['exchange_class']=='color']['exchange_tsi']),\n",
    "         np.array(df[df['exchange_class']=='ON']['exchange_tsi']),\n",
    "         np.array(df[df['exchange_class']=='OFF']['exchange_tsi']),\n",
    "         np.array(df[df['exchange_class']=='ONOFF']['exchange_tsi']),\n",
    "         ),histtype='barstacked',color=[Green,'#FFFFFF','#000000','#808080'],\n",
    "         bins=25,range=(0,1),normed=False)\n",
    "plt.xlabel('transient - sustained index',size=12)\n",
    "plt.ylabel('portion of cells',size=12)\n",
    "plt.gca().tick_params(axis='both',labelsize=12)"
   ]
  },
  {
   "cell_type": "markdown",
   "metadata": {},
   "source": [
    "<br></br>\n",
    "<br></br>\n",
    "<br></br>\n",
    "<br></br>\n",
    "<br></br>\n",
    "<br></br>\n",
    "<br></br>\n",
    "<br></br>\n",
    "<div style=\"font-size:16pt;color:#000000\"><strong><font size='20' color='red'>Figure 7</font></strong></div>"
   ]
  },
  {
   "cell_type": "code",
   "execution_count": null,
   "metadata": {
    "collapsed": true
   },
   "outputs": [],
   "source": []
  },
  {
   "cell_type": "markdown",
   "metadata": {},
   "source": [
    "<br></br>\n",
    "<br></br>\n",
    "<br></br>\n",
    "<br></br>\n",
    "<br></br>\n",
    "<br></br>\n",
    "<br></br>\n",
    "<br></br>\n",
    "<div style=\"font-size:16pt;color:#000000\"><strong><font size='20' color='red'>Figure 8</font></strong></div>"
   ]
  },
  {
   "cell_type": "code",
   "execution_count": null,
   "metadata": {
    "collapsed": true
   },
   "outputs": [],
   "source": []
  },
  {
   "cell_type": "code",
   "execution_count": null,
   "metadata": {
    "collapsed": false
   },
   "outputs": [],
   "source": [
    "unit = '394'\n",
    "fig = plt.figure()\n",
    "plotExchangeFromPSTH_2(M186118,unit,'uv',axis=plt.gca())\n",
    "plotExchangeFromPSTH_2(M186118,unit,'green',axis=plt.gca())\n",
    "fig = plt.figure()\n",
    "plotExchangeFromPSTH(M186118,unit,'uv',axis=plt.gca())\n",
    "plotExchangeFromPSTH(M186118,unit,'green',axis=plt.gca())"
   ]
  },
  {
   "cell_type": "code",
   "execution_count": null,
   "metadata": {
    "collapsed": false
   },
   "outputs": [],
   "source": [
    "unit = '371'\n",
    "fig = plt.figure()\n",
    "plotExchangeFromPSTH_2(M186118,unit,'uv',axis=plt.gca())\n",
    "plotExchangeFromPSTH_2(M186118,unit,'green',axis=plt.gca())\n",
    "fig = plt.figure()\n",
    "plotExchangeFromPSTH(M186118,unit,'uv',axis=plt.gca())\n",
    "plotExchangeFromPSTH(M186118,unit,'green',axis=plt.gca())"
   ]
  },
  {
   "cell_type": "code",
   "execution_count": null,
   "metadata": {
    "collapsed": false
   },
   "outputs": [],
   "source": [
    "for i,data in enumerate([M186118,M186100,M180417,M186098]):\n",
    "    lgn_units = data['lgn_list_ex']\n",
    "    for u in lgn_units:\n",
    "        unit = str(u)\n",
    "        fig,ax=plt.subplots(1,2)\n",
    "        plotExchangeFromPSTH_2(data,unit,'uv',axis=ax[0])\n",
    "        plotExchangeFromPSTH_2(data,unit,'green',axis=ax[0])\n",
    "        plotExchangeFromPSTH(data,unit,'uv',axis=ax[1])\n",
    "        plotExchangeFromPSTH(data,unit,'green',axis=ax[1])\n",
    "        plt.title(data['name']+' '+str(unit))"
   ]
  },
  {
   "cell_type": "code",
   "execution_count": null,
   "metadata": {
    "collapsed": false,
    "scrolled": true
   },
   "outputs": [],
   "source": [
    "data =M186118\n",
    "unit = '371'\n",
    "summarize_color(data,str(unit))"
   ]
  },
  {
   "cell_type": "code",
   "execution_count": null,
   "metadata": {
    "collapsed": true
   },
   "outputs": [],
   "source": []
  },
  {
   "cell_type": "code",
   "execution_count": null,
   "metadata": {
    "collapsed": true
   },
   "outputs": [],
   "source": []
  },
  {
   "cell_type": "code",
   "execution_count": null,
   "metadata": {
    "collapsed": true
   },
   "outputs": [],
   "source": []
  },
  {
   "cell_type": "code",
   "execution_count": null,
   "metadata": {
    "collapsed": true
   },
   "outputs": [],
   "source": []
  },
  {
   "cell_type": "code",
   "execution_count": null,
   "metadata": {
    "collapsed": false
   },
   "outputs": [],
   "source": [
    "for i,data in enumerate([M186118,M186100,M180417,M186098]):\n",
    "    lgn_units = data['lgn_list_ex']\n",
    "    for u in lgn_units:\n",
    "        if not os.path.isfile(os.path.join(r'C:\\Users\\danield\\OneDrive for Business\\allenTransfer\\notebooks\\ephys\\color_units_plots\\eps',data['name']+'_'+str(u)+'.eps')):\n",
    "            try:\n",
    "                summarize_color(data,str(u))\n",
    "            except:\n",
    "                pass\n",
    "        plt.close('all')"
   ]
  },
  {
   "cell_type": "code",
   "execution_count": null,
   "metadata": {
    "collapsed": true
   },
   "outputs": [],
   "source": []
  },
  {
   "cell_type": "code",
   "execution_count": null,
   "metadata": {
    "collapsed": true
   },
   "outputs": [],
   "source": []
  },
  {
   "cell_type": "code",
   "execution_count": null,
   "metadata": {
    "collapsed": true
   },
   "outputs": [],
   "source": []
  },
  {
   "cell_type": "code",
   "execution_count": null,
   "metadata": {
    "collapsed": true
   },
   "outputs": [],
   "source": []
  },
  {
   "cell_type": "code",
   "execution_count": null,
   "metadata": {
    "collapsed": true
   },
   "outputs": [],
   "source": []
  },
  {
   "cell_type": "code",
   "execution_count": null,
   "metadata": {
    "collapsed": true
   },
   "outputs": [],
   "source": []
  },
  {
   "cell_type": "code",
   "execution_count": null,
   "metadata": {
    "collapsed": true
   },
   "outputs": [],
   "source": []
  },
  {
   "cell_type": "markdown",
   "metadata": {
    "collapsed": true
   },
   "source": [
    "<br></br>\n",
    "<br></br>\n",
    "<br></br>\n",
    "<br></br>\n",
    "<br></br>\n",
    "<br></br>\n",
    "<br></br>\n",
    "<br></br>\n",
    "<div style=\"font-size:16pt;color:#000000\"><strong><font size='20' color='red'>Figure 9</font></strong></div>"
   ]
  },
  {
   "cell_type": "markdown",
   "metadata": {},
   "source": [
    "<div style=\"font-size:12pt;color:#000000\">these data are taken from analysis of local field potentials and the calcualted current source potentials from these potentials. </div> \n",
    "<div style=\"font-size:12pt;color:#000000\">the structure is: [(total cortical distance covered, ), (span of green source), (span of uv source)]] </div> "
   ]
  },
  {
   "cell_type": "code",
   "execution_count": null,
   "metadata": {
    "collapsed": true
   },
   "outputs": [],
   "source": [
    "f_180417 = [(800,1.58),(0.617,0.8397),(0.6873,0.9122)]\n",
    "f_186101 = [(800,2.5136),(0.7566,1.57),(0.8974,1.7421)]\n",
    "f_186100 = [(800,2.545),(1.1368,1.888),(1.1092,1.9691)]\n",
    "f_186098 = [(800,3.2),(0.8626,1.9459),(0.9825,2.031)]\n",
    "f_192079 = [(1000,1.94),(0.5242,0.99),(0.68,1.1955)]"
   ]
  },
  {
   "cell_type": "code",
   "execution_count": null,
   "metadata": {
    "collapsed": false
   },
   "outputs": [],
   "source": [
    "from matplotlib import patches\n",
    "\n",
    "green_top=[];uv_top=[];green_bottom=[];uv_bottom=[]\n",
    "plt.figure()\n",
    "for i,exp in enumerate([f_180417,f_186101,f_186100,f_186098,f_192079]):\n",
    "    microns_per_unit = exp[0][0]/float(exp[0][1])\n",
    "    green = np.array(exp[1])* microns_per_unit\n",
    "    uv = np.array(exp[2])* microns_per_unit\n",
    "    green_top.extend([green[0]])\n",
    "    green_bottom.extend([green[1]])\n",
    "    uv_top.extend([uv[0]])\n",
    "    uv_bottom.extend([uv[1]])\n",
    "    plt.gca().add_patch(patches.Rectangle((i,green[1]),\n",
    "                                         0.4,\n",
    "                                         -1*(green[1]-green[0]),\n",
    "                                         fill=True,\n",
    "                                         facecolor=Green,\n",
    "                                         alpha=0.8))\n",
    "    plt.gca().add_patch(patches.Rectangle((i+0.45,uv[1]),\n",
    "                                         0.4,\n",
    "                                         -1*(uv[1]-uv[0]),\n",
    "                                         fill=True,\n",
    "                                         facecolor=UV,\n",
    "                                         alpha=0.8))\n",
    "    print 'green: '+str(green[0])+' - '+str(green[1])+'   UV: '+str(uv[0])+' - '+str(uv[1])\n",
    "plt.ylim(800,0)\n",
    "plt.xlim(0,5)\n",
    "ephys.cleanAxes(plt.gca(),leftLabels=True)\n",
    "plt.gcf().savefig('/Users/administrator/Desktop/l4sinks.eps',format='eps')"
   ]
  },
  {
   "cell_type": "code",
   "execution_count": null,
   "metadata": {
    "collapsed": false
   },
   "outputs": [],
   "source": [
    "ephys.Welchs(green_top,uv_top)"
   ]
  },
  {
   "cell_type": "code",
   "execution_count": null,
   "metadata": {
    "collapsed": true
   },
   "outputs": [],
   "source": [
    "green_middle = (np.array(green_top)+np.array(green_bottom)) / 2.\n",
    "uv_middle = (np.array(uv_top)+np.array(uv_bottom)) / 2.\n",
    "ephys.Welchs(green_middle,uv_middle)"
   ]
  },
  {
   "cell_type": "code",
   "execution_count": null,
   "metadata": {
    "collapsed": true
   },
   "outputs": [],
   "source": []
  },
  {
   "cell_type": "code",
   "execution_count": null,
   "metadata": {
    "collapsed": true
   },
   "outputs": [],
   "source": []
  },
  {
   "cell_type": "code",
   "execution_count": null,
   "metadata": {
    "collapsed": true
   },
   "outputs": [],
   "source": []
  },
  {
   "cell_type": "code",
   "execution_count": null,
   "metadata": {
    "collapsed": true
   },
   "outputs": [],
   "source": []
  },
  {
   "cell_type": "code",
   "execution_count": null,
   "metadata": {
    "collapsed": true
   },
   "outputs": [],
   "source": []
  },
  {
   "cell_type": "code",
   "execution_count": null,
   "metadata": {
    "collapsed": true
   },
   "outputs": [],
   "source": []
  },
  {
   "cell_type": "code",
   "execution_count": null,
   "metadata": {
    "collapsed": true
   },
   "outputs": [],
   "source": []
  },
  {
   "cell_type": "code",
   "execution_count": null,
   "metadata": {
    "collapsed": true
   },
   "outputs": [],
   "source": []
  },
  {
   "cell_type": "code",
   "execution_count": null,
   "metadata": {
    "collapsed": true
   },
   "outputs": [],
   "source": []
  },
  {
   "cell_type": "code",
   "execution_count": null,
   "metadata": {
    "collapsed": true
   },
   "outputs": [],
   "source": []
  },
  {
   "cell_type": "code",
   "execution_count": null,
   "metadata": {
    "collapsed": true
   },
   "outputs": [],
   "source": []
  },
  {
   "cell_type": "code",
   "execution_count": null,
   "metadata": {
    "collapsed": true
   },
   "outputs": [],
   "source": []
  },
  {
   "cell_type": "code",
   "execution_count": null,
   "metadata": {
    "collapsed": true
   },
   "outputs": [],
   "source": []
  },
  {
   "cell_type": "code",
   "execution_count": null,
   "metadata": {
    "collapsed": true
   },
   "outputs": [],
   "source": []
  },
  {
   "cell_type": "code",
   "execution_count": null,
   "metadata": {
    "collapsed": true
   },
   "outputs": [],
   "source": []
  },
  {
   "cell_type": "code",
   "execution_count": null,
   "metadata": {
    "collapsed": false
   },
   "outputs": [],
   "source": []
  },
  {
   "cell_type": "code",
   "execution_count": null,
   "metadata": {
    "collapsed": true
   },
   "outputs": [],
   "source": []
  },
  {
   "cell_type": "code",
   "execution_count": null,
   "metadata": {
    "collapsed": true
   },
   "outputs": [],
   "source": []
  },
  {
   "cell_type": "code",
   "execution_count": null,
   "metadata": {
    "collapsed": true
   },
   "outputs": [],
   "source": []
  },
  {
   "cell_type": "code",
   "execution_count": null,
   "metadata": {
    "collapsed": true
   },
   "outputs": [],
   "source": []
  },
  {
   "cell_type": "code",
   "execution_count": null,
   "metadata": {
    "collapsed": true
   },
   "outputs": [],
   "source": []
  },
  {
   "cell_type": "code",
   "execution_count": null,
   "metadata": {
    "collapsed": true
   },
   "outputs": [],
   "source": []
  },
  {
   "cell_type": "code",
   "execution_count": null,
   "metadata": {
    "collapsed": true
   },
   "outputs": [],
   "source": []
  },
  {
   "cell_type": "code",
   "execution_count": null,
   "metadata": {
    "collapsed": true
   },
   "outputs": [],
   "source": []
  },
  {
   "cell_type": "code",
   "execution_count": null,
   "metadata": {
    "collapsed": true
   },
   "outputs": [],
   "source": []
  },
  {
   "cell_type": "code",
   "execution_count": null,
   "metadata": {
    "collapsed": true
   },
   "outputs": [],
   "source": []
  },
  {
   "cell_type": "code",
   "execution_count": null,
   "metadata": {
    "collapsed": true
   },
   "outputs": [],
   "source": []
  },
  {
   "cell_type": "code",
   "execution_count": null,
   "metadata": {
    "collapsed": true
   },
   "outputs": [],
   "source": [
    "sta_green = []; sta_UV=[]; sta_green_fit = []; sta_UV_fit = [];\n",
    "backup_center=(34,26)\n",
    "for i in range(np.shape(df)[0]):\n",
    "    try:\n",
    "        nwb_data = data[df['Experiment'][i]]\n",
    "        cell = str(str(df['Cell'][i]))\n",
    "        sys.stdout.write('\\% complete: %s' % str(i*100/np.shape(df)[0]));sys.stdout.flush() # show % progress\n",
    "\n",
    "        #calculate spike-triggered average\n",
    "        sta_g = sta(np.array(nwb_data['processing']['LGN']['UnitTimes'][cell]['times']),\n",
    "                              np.array(nwb_data['stimulus']['presentation']['binary_green']['data']).T,\n",
    "                              np.array(nwb_data['stimulus']['presentation']['binary_green']['timestamps']),\n",
    "                              taus=(np.linspace(-110,580,70)),samplingRateInkHz=0.001)#sampling rate scales the tau values to seconds\n",
    "        sta_green.extend([sta_g]);\n",
    "        sta_u = sta(np.array(nwb_data['processing']['LGN']['UnitTimes'][cell]['times']),\n",
    "                              np.array(nwb_data['stimulus']['presentation']['binary_uv']['data']).T,\n",
    "                              np.array(nwb_data['stimulus']['presentation']['binary_uv']['timestamps']),\n",
    "                              taus=(np.linspace(-110,580,70)),samplingRateInkHz=0.001)#sampling rate scales the tau values to seconds\n",
    "        sta_UV.extend([sta_u]);\n",
    "\n",
    "        #fit the results with a 2D Gaussian\n",
    "        sta_green_fit.extend([fitRF(sta_green[-1],backup_center=backup_center,rfsizeguess=1.5,centerfixed=True)]) \n",
    "        sta_UV_fit.extend([fitRF(sta_UV[-1],backup_center=backup_center,rfsizeguess=1.5,centerfixed=True)])\n",
    "\n",
    "        if sta_green_fit[-1]['roughquality']=='good':\n",
    "            backup_center = sta_green_fit[-1]['center']\n",
    "        \n",
    "    except:\n",
    "        print df['Experiment'][i]+':  '+cell\n",
    "        for measure in [sta_green,sta_UV,sta_green_fit,sta_UV_fit]:\n",
    "            measure.extend([np.nan])\n",
    "        print str('FAEL RF: ') + df['Experiment'][i] + ' '+str(str(df['Cell'][i]))\n",
    "\n",
    "df['sta_green']=sta_green;df['sta_UV']=sta_UV;\n",
    "df['sta_green_fit']=sta_green_fit;df['sta_UV_fit']=sta_UV_fit;\n",
    "\n",
    "df_rf = df=pkl.load(open('/Volumes/DATA1/ephys/color_units_sandbox.pkl','rb'))"
   ]
  },
  {
   "cell_type": "code",
   "execution_count": null,
   "metadata": {
    "collapsed": true
   },
   "outputs": [],
   "source": []
  }
 ],
 "metadata": {
  "celltoolbar": "Hide code",
  "kernelspec": {
   "display_name": "Python 2",
   "language": "python",
   "name": "python2"
  },
  "language_info": {
   "codemirror_mode": {
    "name": "ipython",
    "version": 2
   },
   "file_extension": ".py",
   "mimetype": "text/x-python",
   "name": "python",
   "nbconvert_exporter": "python",
   "pygments_lexer": "ipython2",
   "version": "2.7.12"
  }
 },
 "nbformat": 4,
 "nbformat_minor": 0
}
